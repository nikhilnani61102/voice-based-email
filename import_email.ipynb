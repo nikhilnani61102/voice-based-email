{
 "cells": [
  {
   "cell_type": "code",
   "execution_count": 2,
   "metadata": {},
   "outputs": [],
   "source": [
    "import imaplib\n",
    "# import mail\n",
    "import email\n",
    "import base64"
   ]
  },
  {
   "cell_type": "code",
   "execution_count": 3,
   "metadata": {},
   "outputs": [],
   "source": [
    "imap_server = \"imap.gmail.com\""
   ]
  },
  {
   "cell_type": "code",
   "execution_count": 4,
   "metadata": {},
   "outputs": [],
   "source": [
    "email_addresss = \"20n31a6947@gmail.com\"\n",
    "passwo = \"eivjqeojgoarrioz\""
   ]
  },
  {
   "cell_type": "code",
   "execution_count": 5,
   "metadata": {},
   "outputs": [
    {
     "data": {
      "text/plain": [
       "('OK', [b'114'])"
      ]
     },
     "execution_count": 5,
     "metadata": {},
     "output_type": "execute_result"
    }
   ],
   "source": [
    "imap = imaplib.IMAP4_SSL(imap_server)\n",
    "imap.login(email_addresss,passwo)\n",
    "imap.select(\"Inbox\")\n"
   ]
  },
  {
   "cell_type": "code",
   "execution_count": 5,
   "metadata": {},
   "outputs": [
    {
     "name": "stdout",
     "output_type": "stream",
     "text": [
      "Requirement already satisfied: pybase64 in c:\\users\\nikhi\\appdata\\local\\programs\\python\\python311\\lib\\site-packages (1.2.3)\n"
     ]
    },
    {
     "name": "stderr",
     "output_type": "stream",
     "text": [
      "\n",
      "[notice] A new release of pip is available: 23.1 -> 23.1.1\n",
      "[notice] To update, run: python.exe -m pip install --upgrade pip\n"
     ]
    }
   ],
   "source": [
    "# !pip install email 4.0.2\n",
    "!pip install pybase64"
   ]
  },
  {
   "cell_type": "code",
   "execution_count": 7,
   "metadata": {},
   "outputs": [
    {
     "name": "stdout",
     "output_type": "stream",
     "text": [
      "Message Number: b'2'\n",
      "From: Google Community Team <googlecommunityteam-noreply@google.com>\n",
      "To: 20n31a6947@gmail.com\n",
      "Date: Tue, 06 Sep 2022 07:32:10 -0700\n",
      "Subject: Nikhil Sai, finish setting up your new Google Account\n",
      "Content\n",
      "\n",
      "Content-Type: text/plain; charset=\"UTF-8\"; format=flowed; delsp=yes\n",
      "Content-Transfer-Encoding: base64\n",
      "\n",
      "DQoNCkhpIE5pa2hpbCBTYWksDQoNCldlbGNvbWUgdG8gR29vZ2xlLiBZb3VyIG5ldyBhY2NvdW50\n",
      "IGNvbWVzIHdpdGggYWNjZXNzIHRvIEdvb2dsZSBwcm9kdWN0cywgIA0KYXBwcyBhbmQgc2Vydmlj\n",
      "ZXMuDQoNCkhlcmUgYXJlIGEgZmV3IHRpcHMgdG8gZ2V0IHlvdSBzdGFydGVkLg0KDQoNCkdldCB0\n",
      "aGUgbW9zdCBvdXQgb2YgeW91ciBHb29nbGUgQWNjb3VudA0KDQpXZSdsbCBzZW5kIHlvdSBwZXJz\n",
      "b25hbGlzZWQgdGlwcywgbmV3cyBhbmQgcmVjb21tZW5kYXRpb25zIGZyb20gR29vZ2xlLg0KDQpZ\n",
      "ZXMsIGtlZXAgbWUgdXBkYXRlZCAgDQo8aHR0cHM6Ly9ub3RpZmljYXRpb25zLmdvb2dsZS5jb20v\n",
      "Zy9wL0FQTkwxVGhGRmZTVlFFRWZINnE2MWIwNmpuTkVTZXg2emZoVHZqWThZU0NfOUZtZDNhUE50\n",
      "VG1yU1V0SVg2QU9MTk1DN3FDcVNFdEJhZDlpd1lJMW1HbGV0TG9fSjB2bkdNNFVrTEVmUVVERlVD\n",
      "UG5oeThZalI5ODg2aXkwVXA2cXV2aEwydnFGbVc1V3JEWVdzdzhWaGhwRUd3M1h2ZTdLSkVhWFpK\n",
      "MnVaZlJUNHJtYlFTR0ZEMUMwSFh6d0E4M21GMWoxR2dDMkpsLVQxUGRKeG4taFVKTTdJNG1qUHQx\n",
      "SEFDVkgxaHJQYUJ3T0NIRDJZOUlqaFdTX29zZC1YRUFmeTEzZlZOTTdPZG9nM1h1N2d5RmhKY2Y3\n",
      "ZlB0a2JQSEdINHBJZlRtOFl5RDNqblg4NHBrbGtrR3B2YVAtS28wMlZEazNUNE1nTk5VNFZHb05B\n",
      "eUR5UT4NCg0KU3RheSB1cCB0byBkYXRlIHdpdGggdGhlIEdvb2dsZSBhcHANCg0KRmluZCBxdWlj\n",
      "ayBhbnN3ZXJzLCBleHBsb3JlIHlvdXIgaW50ZXJlc3RzIGFuZCBzdGF5IHVwIHRvIGRhdGUuDQoN\n",
      "ClRyeSBpdCAgDQo8aHR0cHM6Ly9ub3RpZmljYXRpb25zLmdvb2dsZS5jb20vZy9wL0FQTkwxVGl5\n",
      "VUxPdmhWd3JDc1BnaUcwVkszRi1DcnlnUUxGMGg0V3B1UFNqV0VFNzFManJjUXBoS3dUQWxET1Js\n",
      "WkNtajZIRjdQMlhxM3hBS0Rvak5rZFJYMGxXRnRoak0tOVRRNHlZOUpuQnYyMlZrajRYajlGUEdF\n",
      "ZjFOdVlINl9yM0l2c09Eb2pFRGhua3drRlpFazFsY2VtWEljOGItY0hnWEhsdnlxZER3TEFaWm4x\n",
      "MUZKUnVoT2kzamdiZHlUMzhhQzdXZFlZd1NCS2NrWDZ3UVNvaTZhcC0wS0xaaWtuR0tqeTZWQ3do\n",
      "S1liUHZZd2toV0VEejJxWjlxMWU0U3huSG1lVkFHVGNucjJnZWlnM0F3Pg0KDQpNb3JlIGZyb20g\n",
      "R29vZ2xlDQoNCkRpc2NvdmVyIHRoZSBsYXRlc3QgYXBwcyBmcm9tIEdvb2dsZS4NCg0KRm9yIEFu\n",
      "ZHJvaWQgIA0KPGh0dHBzOi8vbm90aWZpY2F0aW9ucy5nb29nbGUuY29tL2cvcC9BUE5MMVRpRzJv\n",
      "ZUU3OXc4T3pNZk9HbVNuN3lSaTRZcG5FaHIyY0ZfOFJ3NU1fSzlES2VYdEtDckRCLVlDLTFXaUNy\n",
      "MWxqTWlReV8yVlZFUFJscmhybUIzUTFOeTNQdi1sWThQZkFIMHBXMkRmN29yc0JaWEQ2VjJuMENM\n",
      "SUJuZU1JTjVfRHhSZmNYbUlGRDlrTnB0Z25Pb2JuNVVpeEhJaFdZTTJJY1pMaFdrYUdfMHdHQVA5\n",
      "aGJGSldmMWgxRFpyTkdGSy16RkJad1p4cUtDYmdBMlhWSWlmMzFfRTEydXJwUE5TRTNGQVFjakFZ\n",
      "NUtzcFcteFV1a1ZqYUN5R0dmUkFlQThvX0o0UzU5WjdFSWN4ekM1WG9WMU9hVmhKVDBQY0FqQ2Jl\n",
      "c0YyZWhHb051cEJFaG1fLUhUZGRDN2llOC12WTZRUnozblRrWHJYVHZzQTAtbTAxLW9LYjhQa2xw\n",
      "VjVJdDk4QVV0R2tZQW84QUdxLWw4ejJKbnZCLVFNOUlxNmxzZ2xjQ3loV050N1NQdzZUbWdQcU1h\n",
      "ZGRIU0cxVWxxNV9kd2hYU2RDa2N0ZDFhUG9jeXdZVloxWmUyaE5iRVEyQjhuZGtkdWU3Y3FFcl9P\n",
      "LVFSM0VxNkQ1QXFPOGV3X1F1Y3JOUTlXdmVjc3FkbzJnS1RibTVWUG5mSGE4YWxQSWVua2REUGVv\n",
      "N3BOOHNPY3MweXNiQlU3ZnRkUGVadlZOR3hfX3J5SzN0QWRoa2p4c0dweUE+DQoNCkZvciBpT1Mg\n",
      "IA0KPGh0dHBzOi8vbm90aWZpY2F0aW9ucy5nb29nbGUuY29tL2cvcC9BUE5MMVRpTnQyb0xNRnlo\n",
      "dE1tSEtTMVJvV2ZfSkU4SUlTeUtXNWlyajczOV9Db3piYml1TVdyRWQ2NTlOSHhTN1Q3dEZNMWRB\n",
      "dnRKY0JmZV9kU0JfQW5jYXVlZWVZcVIxMVRMQjFuRWdyVGxQTXRlQS05X1VEU3I5NXYxTF9JazRE\n",
      "WldHZEpmNHVWM1pVSDA3Ym5pMkVMYmJiUEszYTlPOFlzbENFNlVDc1N0Sml6UzVhWGpuckFBUWo3\n",
      "Rk9tMHdVNFZvTUx2SlFsS0Q4ZF9UV2NjdGc1QVYwYWpOeTNuSXB6NmUxVENXQ2V4OXZQNm5qVHdX\n",
      "QUJoMDN6QnJoclViUXhudlJDa09mV080SVFNbDNrRWdUYjZ2Zl9Oa0ptUVdhMk5XU3F1RXVRPg0K\n",
      "DQpDb25maXJtIHRoYXQgeW91ciBvcHRpb25zIGFyZSByaWdodCBmb3IgeW91DQoNClJldmlldyBh\n",
      "bmQgY2hhbmdlIHlvdXIgcHJpdmFjeSBhbmQgc2VjdXJpdHkgb3B0aW9ucyB0byBtYWtlIEdvb2ds\n",
      "ZSB3b3JrICANCmJldHRlciBmb3IgeW91Lg0KDQpDb25maXJtICANCjxodHRwczovL25vdGlmaWNh\n",
      "dGlvbnMuZ29vZ2xlLmNvbS9nL3AvQVBOTDFUaF9HWVI0ZllqS2p0MHVrSmNqTWRlUEdHa0J0X256\n",
      "LVh1cmFxajN4dDBXWGNfYjB3bW9tU3lCVTFNMXhtS3ZCdFQwa0Y4bGI3eXZHT0FCejVWTDREVWVY\n",
      "MUFCeVgyZWtYYnM1Nl9KRXlVdHVsUzdTSHVIWWdGM3ZUbXlGYVhaNWFqZ2szd3QxTXpweEJlNGhR\n",
      "bTJLTFF4ZHVSb0duTHlibUhiQUY1bEtYV1VkZGVETFlYWjd4VlU4eEQ4NGJyTElyMEJkM3AtSWZN\n",
      "ZDRlVzc2dmVJV0MwaXJIMTlOWS1jQUZWZDlPOTJvWnh4Pg0KDQpGaW5kIGFuc3dlcnMNCg0KVmlz\n",
      "aXQgdGhlIEhlbHAgQ2VudHJlICANCjxodHRwczovL25vdGlmaWNhdGlvbnMuZ29vZ2xlLmNvbS9n\n",
      "L3AvQVBOTDFUZ2ZVUTRxS2hib3o4ZzYyei1DWEVVRXFvdl9DbnlmeGdLVHU5eWp0N3otSVU5UGFF\n",
      "WGVPNEFJaXRlRFRnRGpsSFZoZjZ4d0o4czFzejFWQU9DM1NfcnRJcXNrYWNWLU9XVDlESXpiM1RM\n",
      "WVBxd2pGRElSTlFVbHBvWE56b1R4Y3JtTldndWFNbnViNk9jdXNIdW9ERXdkbW9SSnFVME9tYWFJ\n",
      "LUVKaEVHRnpvN01rMXRyeUJ1ejJmdWJBZnZzWEh5clpndXRBPiAgDQp0byBsZWFybiBhbGwgYWJv\n",
      "dXQgeW91ciBuZXcgR29vZ2xlIEFjY291bnQuDQoNCg0KUmVwbGllcyB0byB0aGlzIGVtYWlsIGFy\n",
      "ZW4ndCBtb25pdG9yZWQuIElmIHlvdSBoYXZlIGEgcXVlc3Rpb24gYWJvdXQgeW91ciAgDQpuZXcg\n",
      "YWNjb3VudCwgdGhlIEhlbHAgQ2VudHJlICANCjxodHRwczovL25vdGlmaWNhdGlvbnMuZ29vZ2xl\n",
      "LmNvbS9nL3AvQVBOTDFUZ0M2SDlmbjc2SHFvb3JwaUYxMktCd3VZOG55Rmd1QUJhZF8zbk55bDBM\n",
      "Z2FxZ3R6ZkcxMmsyU3hOQzBsMi1lUWt1el85c2J3YUM2eXhGNEgzNlladkd6Sk5IdDFmUWJzZXlD\n",
      "Z0NWdjQ2UmhCZEZELUsyMHAtc0pVX012bXlQcHhTWElHQmZTRWNSVlRfZThHR1F5VWJ0RElEZnl6\n",
      "SXV3bTJxVG9NeXgtOTlGY3BqSkNjei1MbXYtMlN4ZXhDaml5VmNtY1plMEtrcWFaRmg+ICANCnBy\n",
      "b2JhYmx5IGhhcyB0aGUgYW5zd2VyIHRoYXQgeW91J3JlIGxvb2tpbmcgZm9yLg0KDQoNCg0KR29v\n",
      "Z2xlIExMQyAxNjAwIEFtcGhpdGhlYXRyZSBQYXJrd2F5LCBNb3VudGFpbiBWaWV3LCBDQSA5NDA0\n",
      "Mw0KDQpUaGlzIGVtYWlsIHdhcyBzZW50IHRvIHlvdSBiZWNhdXNlIHlvdSBjcmVhdGVkIGEgR29v\n",
      "Z2xlIEFjY291bnQuDQo=\n"
     ]
    }
   ],
   "source": [
    "_,msgnums = imap.search(None,\"2\")\n",
    "for msgnum in msgnums[0].split():\n",
    "    _,data = imap.fetch(msgnum,\"RFC822\")\n",
    "    message = email.message_from_bytes(data[0][1])\n",
    "    # print(message)\n",
    "    print(f\"Message Number: {msgnum}\")\n",
    "    print(f\"From: {message.get('from')}\")\n",
    "    print(f\"To: {message.get('to')}\")\n",
    "    print(f\"Date: {message.get('date')}\")\n",
    "    print(f\"Subject: {message.get('subject')}\")\n",
    "    print(\"Content\\n\")\n",
    "    for part in message.walk():\n",
    "        if part.get_content_type() == \"text/plain\":\n",
    "            # print(part.as_string())\n",
    "            print(part)\n",
    "            # print(part.decode(\"ascii\"))\n"
   ]
  }
 ],
 "metadata": {
  "kernelspec": {
   "display_name": "Python 3",
   "language": "python",
   "name": "python3"
  },
  "language_info": {
   "codemirror_mode": {
    "name": "ipython",
    "version": 3
   },
   "file_extension": ".py",
   "mimetype": "text/x-python",
   "name": "python",
   "nbconvert_exporter": "python",
   "pygments_lexer": "ipython3",
   "version": "3.11.2"
  },
  "orig_nbformat": 4
 },
 "nbformat": 4,
 "nbformat_minor": 2
}
